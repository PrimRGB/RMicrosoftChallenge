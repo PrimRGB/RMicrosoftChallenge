{
 "nbformat": 4,
 "nbformat_minor": 2,
 "metadata": {
  "language_info": {
   "name": "python",
   "codemirror_mode": {
    "name": "ipython",
    "version": 3
   },
   "version": "3.8.2-final"
  },
  "orig_nbformat": 2,
  "file_extension": ".py",
  "mimetype": "text/x-python",
  "name": "python",
  "npconvert_exporter": "python",
  "pygments_lexer": "ipython3",
  "version": 3,
  "kernelspec": {
   "name": "python38164bitfromhomeconda53210e8f2af247a0bb6eec7ec07a775a",
   "display_name": "Python 3.8.1 64-bit ('from-home': conda)"
  }
 },
 "cells": [
  {
   "cell_type": "code",
   "execution_count": null,
   "metadata": {},
   "outputs": [],
   "source": [
    "import pandas as pd\n",
    "import numpy as np\n",
    "import matplotlib.pyplot as plt\n",
    "from bokeh.io import output_notebook, curdoc\n",
    "from bokeh.plotting import figure, show, ColumnDataSource\n",
    "from bokeh.models import VBar, FactorRange\n",
    "from bokeh.themes import built_in_themes\n",
    "from pandas_profiling import ProfileReport\n",
    "from bokeh.transform import dodge\n",
    "\n",
    "output_notebook()\n",
    "curdoc().theme = 'dark_minimal'\n",
    ""
   ]
  },
  {
   "cell_type": "code",
   "execution_count": null,
   "metadata": {},
   "outputs": [],
   "source": [
    "def plot_hist(df: pd.DataFrame, column: str, plot: figure, colors=[\"SteelBlue\", \"Tan\"]) -> None:\n",
    "    hist, edges = np.histogram(df[column])\n",
    "    hist_df = pd.DataFrame({column: hist,\n",
    "                        \"left\": edges[:-1],\n",
    "                        \"right\": edges[1:]})\n",
    "    hist_df[\"interval\"] = [\"%d to %d\" % (left, right) for left, \n",
    "                        right in zip(hist_df[\"left\"], hist_df[\"right\"])]\n",
    "    src = ColumnDataSource(hist_df)\n",
    "    plot.vbar(bottom = 0, top=column, source = src, fill_color = colors[0], \n",
    "        line_color = \"black\", fill_alpha = 0.5,\n",
    "        hover_fill_alpha = 1.0, hover_fill_color = colors[1])"
   ]
  },
  {
   "cell_type": "code",
   "execution_count": null,
   "metadata": {},
   "outputs": [],
   "source": [
    "infected_df = pd.read_csv(\"./trainSample.csv\")\n",
    "def fill_nan_with(df: pd.DataFrame, column: str, value):\n",
    "    df[column].loc[pd.isna(df[column])] = value\n",
    "for column in [\"AVProductsInstalled\", \"IsProtected\", \"AVProductsEnabled\"]:\n",
    "    fill_nan_with(infected_df, column, 0)"
   ]
  },
  {
   "cell_type": "code",
   "execution_count": null,
   "metadata": {},
   "outputs": [],
   "source": [
    "default_columns = [\n",
    "    \"MachineIdentifier\",\n",
    "    \"HasDetections\"\n",
    "]\n",
    "\n",
    "red_columns = [\n",
    "    \"EngineVersion\",\n",
    "    \"AppVersion\",\n",
    "    \"AvSigVersion\",\n",
    "    \"AVProductStatesIdentifier\",\n",
    "    \"AVProductsInstalled\",\n",
    "    \"AVProductsEnabled\",\n",
    "    \"HasTpm\",\n",
    "    \"CountryIdentifier\",\n",
    "    \"CityIdentifier\",\n",
    "    \"OrganizationIdentifier\",\n",
    "    \"GeoNameIdentifier\",\n",
    "    \"LocaleEnglishNameIdentifier\",\n",
    "    \"Platform\",\n",
    "    \"Processor\",\n",
    "    \"OsVer\",\n",
    "    \"OsBuild\",\n",
    "    \"OsSuite\",\n",
    "    \"OsPlatformSubRelease\",\n",
    "    \"OsBuildLab\",\n",
    "    \"SkuEdition\",\n",
    "    \"IsProtected\",\n",
    "    \"SMode\",\n",
    "    \"IeVerIdentifier\",\n",
    "    \"SmartScreen\",\n",
    "    \"Firewall\"\n",
    "]"
   ]
  },
  {
   "cell_type": "code",
   "execution_count": null,
   "metadata": {},
   "outputs": [],
   "source": [
    "test = infected_df.describe(include=[\"object\"])"
   ]
  },
  {
   "cell_type": "code",
   "execution_count": null,
   "metadata": {},
   "outputs": [],
   "source": [
    "is_infected = infected_df[\"HasDetections\"] == 1"
   ]
  },
  {
   "cell_type": "code",
   "execution_count": null,
   "metadata": {},
   "outputs": [],
   "source": [
    "infected_df[\"EngineVersionNumberfied\"] = infected_df[\"EngineVersion\"].str.replace('.', '').astype(int)"
   ]
  },
  {
   "cell_type": "code",
   "execution_count": null,
   "metadata": {},
   "outputs": [],
   "source": [
    "#profiling = ProfileReport(infected_df[default_columns + red_columns])\n",
    "#profiling.to_file(output_file=\"report.html\")\n",
    ""
   ]
  },
  {
   "cell_type": "code",
   "execution_count": null,
   "metadata": {},
   "outputs": [],
   "source": [
    "def vbar(df: pd.DataFrame, column: str, fill_color: str, dodge_distance: float, x_range: FactorRange, width: float=0.25, fill_alpha: float=0.5) -> VBar:\n",
    "    column_series = df[column]\n",
    "    x = list(set(column_series.astype(str).values))\n",
    "    y = column_series.value_counts().sort_index()\n",
    "    return ColumnDataSource({\"x\": x, \"y\": y}), VBar(x=dodge(\"x\", dodge_distance, x_range), top=\"y\", fill_color=fill_color, width=width, fill_alpha=fill_alpha)"
   ]
  },
  {
   "cell_type": "code",
   "execution_count": null,
   "metadata": {},
   "outputs": [],
   "source": [
    "p = figure(x_range=FactorRange(factors=list(set(infected_df[\"IsProtected\"].astype(str).sort_values().values))))\n",
    "is_protected = infected_df[\"IsProtected\"] == 0\n",
    "p.add_glyph(*vbar(infected_df[~is_infected], \"IsProtected\", \"green\", -0.13, p.x_range))\n",
    "p.add_glyph(*vbar(infected_df[is_infected], \"IsProtected\", \"red\", 0.13, p.x_range))\n",
    "show(p)"
   ]
  },
  {
   "cell_type": "code",
   "execution_count": null,
   "metadata": {},
   "outputs": [],
   "source": [
    "from scipy.stats import chisquare\n",
    "chisquare([infected_df[~is_infected][is_protected][\"IsProtected\"].count(), infected_df[is_infected][is_protected][\"IsProtected\"].count()], \n",
    "f_exp=[len(infected_df[is_protected]) * 0.5, len(infected_df[is_protected]) * 0.5])"
   ]
  },
  {
   "cell_type": "code",
   "execution_count": null,
   "metadata": {},
   "outputs": [],
   "source": [
    "p = figure(plot_width=1400, x_range=FactorRange(factors=list(set(infected_df[\"EngineVersion\"].astype(str).values))))\n",
    "p.add_glyph(*vbar(infected_df[~is_infected], \"EngineVersion\", \"green\", -0.13, p.x_range))\n",
    "p.add_glyph(*vbar(infected_df[is_infected], \"EngineVersion\", \"red\", 0.13, p.x_range))\n",
    "show(p)"
   ]
  },
  {
   "cell_type": "code",
   "execution_count": null,
   "metadata": {},
   "outputs": [],
   "source": [
    "infected_df[\"EngineVersion\"].map(lambda x: len(max(x.split(\".\"), key=len))).max()"
   ]
  },
  {
   "cell_type": "code",
   "execution_count": null,
   "metadata": {},
   "outputs": [],
   "source": [
    "from typing import List\n",
    "\n",
    "def add_digits_from_list(version_list: List[str], add_digits: int) -> int:\n",
    "    return int(''.join([x.zfill(add_digits) for x in version_list]))\n",
    "infected_df[\"EngineVersion\"].map(lambda x: add_digits_from_list(x.split(\".\"), 2))"
   ]
  },
  {
   "cell_type": "code",
   "execution_count": null,
   "metadata": {},
   "outputs": [],
   "source": [
    "\"23432434\".zfill(2)"
   ]
  },
  {
   "cell_type": "code",
   "execution_count": null,
   "metadata": {},
   "outputs": [],
   "source": [
    "from transformation_utils.transformers import VersionToNum\n",
    "numberfyer = VersionToNum(\"EngineVersion\")\n",
    "infected_df[\"EngineVersionNumberfied\"] = numberfyer.fit_transform(infected_df)"
   ]
  },
  {
   "cell_type": "code",
   "execution_count": null,
   "metadata": {},
   "outputs": [],
   "source": [
    "p = figure(plot_width=1400, x_range=FactorRange(factors=infected_df[\"EngineVersionNumberfied\"].sort_values().unique().astype(str)))\n",
    "p.add_glyph(*vbar(infected_df[~is_infected], \"EngineVersionNumberfied\", \"green\", -0.13, p.x_range))\n",
    "p.add_glyph(*vbar(infected_df[is_infected], \"EngineVersionNumberfied\", \"red\", 0.13, p.x_range))\n",
    "show(p)"
   ]
  },
  {
   "cell_type": "code",
   "execution_count": null,
   "metadata": {},
   "outputs": [],
   "source": []
  }
 ]
}